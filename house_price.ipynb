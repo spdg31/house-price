{
  "nbformat": 4,
  "nbformat_minor": 0,
  "metadata": {
    "colab": {
      "name": "house price.ipynb",
      "provenance": [],
      "collapsed_sections": []
    },
    "kernelspec": {
      "name": "python3",
      "display_name": "Python 3"
    }
  },
  "cells": [
    {
      "cell_type": "code",
      "metadata": {
        "id": "fV5h9D4nFdjH",
        "colab_type": "code",
        "colab": {}
      },
      "source": [
        "import tensorflow as tf\n",
        "from tensorflow.keras.layers import Dense\n",
        "from matplotlib import pyplot as plt\n",
        "import pandas as pd\n",
        "import numpy as np\n",
        "\n",
        "dataset = pd.read_csv('train.csv')\n",
        "\n",
        "dataset = dataset.replace([\"A\",\"C\",\"FV\",\"I\",\"RH\",\"RL\",\"RP\",\"RM\",\"C (all)\"] , [0,1,2,3,4,5,6,7,8])\n",
        "dataset = dataset.replace([\"Reg\",\"IR1\",\"IR2\",\"IR3\"], [0,1,2,3])\n",
        "dataset = dataset.replace([\"AllPub\",\"NoSewr\",\"NoSeWa\",\"ELO\"], [0,1,2,3])\n",
        "dataset = dataset.replace([\"Blmngtn\",\"Blueste\",\"BrDale\",\"BrkSide\",\"ClearCr\",\"CollgCr\",\"Crawfor\",\"Edwards\",\"Gilbert\",\"IDOTRR\",\"MeadowV\",\"Mitchel\",\"Names\",\"NAmes\",\"NoRidge\",\"NPkVill\",\"NridgHt\",\"NWAmes\",\"OldTown\",\"SWISU\",\"Sawyer\",\"SawyerW\",\"Somerst\",\"StoneBr\",\"Timber\",\"Veenker\"] , [0,1,2,3,4,5,6,7,8,9,10,11,12,12,13,14,15,16,17,18,19,20,21,22,23,24])\n",
        "dataset = dataset.replace([\"1Fam\",\"2FmCon\",\"2fmCon\",\"Duplx\",\"Duplex\",\"TwnhsE\",\"TwnhsI\",\"Twnhs\"] , [0,1,1,2,2,3,4,5])\n",
        "dataset = dataset.replace([\"1Story\",\"1.5Fin\",\"1.5Unf\",\"2Story\",\"2.5Fin\",\"2.5Unf\",\"SFoyer\",\"SLvl\"] , [0,1,2,3,4,5,6,7])\n",
        "dataset = dataset.replace([\"GLQ\",\"ALQ\",\"BLQ\",\"Rec\",\"LwQ\",\"Unf\",\"NA\"] , [0,1,2,3,4,5,6])\n",
        "dataset = dataset.replace([\"Ex\",\"Gd\",\"TA\",\"Fa\",\"Po\"] , [0,1,2,3,4])\n",
        "dataset = dataset.replace([\"Elev\",\"Gar2\",\"Othr\",\"Shed\",\"TenC\",\"NA\"] , [0,1,2,3,4,5])\n",
        "dataset = dataset.fillna(0)\n",
        "\n",
        "y_train = dataset[[\"SalePrice\"]]\n",
        "x_train = dataset[[\"MSZoning\",\"LotFrontage\",\"LotArea\",\"LotShape\",\"Utilities\",\"Neighborhood\",\"BldgType\",\"HouseStyle\",\"OverallQual\",\"OverallCond\",\"YearBuilt\",\"YearRemodAdd\",\"BsmtFinType1\",\"TotalBsmtSF\",\"HeatingQC\",\"TotRmsAbvGrd\",\"GarageCars\",\"PoolArea\",\"MiscFeature\"]]\n",
        "\n",
        "y_train = np.array(y_train)\n",
        "x_train = np.array(x_train)\n",
        "\n",
        "# y_train = y_train.astype(np.float32)\n",
        "# x_train = x_train.astype(np.float32)\n"
      ],
      "execution_count": 0,
      "outputs": []
    },
    {
      "cell_type": "code",
      "metadata": {
        "id": "OLCoI9BDJ3b-",
        "colab_type": "code",
        "colab": {}
      },
      "source": [
        "model = tf.keras.models.Sequential([\n",
        "        Dense(19, input_dim=19 ,activation=\"sigmoid\"),\n",
        "        Dense(50, activation=\"sigmoid\"),\n",
        "        Dense(10, activation=\"sigmoid\"),\n",
        "        # Dense(4, activation=\"sigmoid\"),\n",
        "        Dense(1, activation=\"linear\"),\n",
        "])"
      ],
      "execution_count": 0,
      "outputs": []
    },
    {
      "cell_type": "code",
      "metadata": {
        "id": "cAjOKBdhVI5B",
        "colab_type": "code",
        "colab": {}
      },
      "source": [
        "model.compile(optimizer=tf.keras.optimizers.SGD(learning_rate=0.001, momentum=0.1, nesterov=False), loss='mse')"
      ],
      "execution_count": 0,
      "outputs": []
    },
    {
      "cell_type": "code",
      "metadata": {
        "id": "sH5Pjkk-VQ2a",
        "colab_type": "code",
        "colab": {
          "base_uri": "https://localhost:8080/",
          "height": 697
        },
        "outputId": "427ca7f0-df1a-4f00-cd97-f29848e4eb2f"
      },
      "source": [
        "out = model.fit(x_train, y_train, epochs=20)"
      ],
      "execution_count": 86,
      "outputs": [
        {
          "output_type": "stream",
          "text": [
            "Epoch 1/20\n",
            "46/46 [==============================] - 0s 1ms/step - loss: 31122434048.0000\n",
            "Epoch 2/20\n",
            "46/46 [==============================] - 0s 1ms/step - loss: 19624837120.0000\n",
            "Epoch 3/20\n",
            "46/46 [==============================] - 0s 1ms/step - loss: 13581575168.0000\n",
            "Epoch 4/20\n",
            "46/46 [==============================] - 0s 1ms/step - loss: 10204689408.0000\n",
            "Epoch 5/20\n",
            "46/46 [==============================] - 0s 1ms/step - loss: 8375475200.0000\n",
            "Epoch 6/20\n",
            "46/46 [==============================] - 0s 1ms/step - loss: 7426221056.0000\n",
            "Epoch 7/20\n",
            "46/46 [==============================] - 0s 1ms/step - loss: 6888216064.0000\n",
            "Epoch 8/20\n",
            "46/46 [==============================] - 0s 1ms/step - loss: 6632547328.0000\n",
            "Epoch 9/20\n",
            "46/46 [==============================] - 0s 1ms/step - loss: 6470060032.0000\n",
            "Epoch 10/20\n",
            "46/46 [==============================] - 0s 1ms/step - loss: 6406088192.0000\n",
            "Epoch 11/20\n",
            "46/46 [==============================] - 0s 1ms/step - loss: 6373141504.0000\n",
            "Epoch 12/20\n",
            "46/46 [==============================] - 0s 1ms/step - loss: 6321061376.0000\n",
            "Epoch 13/20\n",
            "46/46 [==============================] - 0s 1ms/step - loss: 6348675584.0000\n",
            "Epoch 14/20\n",
            "46/46 [==============================] - 0s 1ms/step - loss: 6364190208.0000\n",
            "Epoch 15/20\n",
            "46/46 [==============================] - 0s 1ms/step - loss: 6288106496.0000\n",
            "Epoch 16/20\n",
            "46/46 [==============================] - 0s 1ms/step - loss: 6299125248.0000\n",
            "Epoch 17/20\n",
            "46/46 [==============================] - 0s 1ms/step - loss: 6324280832.0000\n",
            "Epoch 18/20\n",
            "46/46 [==============================] - 0s 1ms/step - loss: 6290406912.0000\n",
            "Epoch 19/20\n",
            "46/46 [==============================] - 0s 1ms/step - loss: 6276135424.0000\n",
            "Epoch 20/20\n",
            "46/46 [==============================] - 0s 1ms/step - loss: 6314251776.0000\n"
          ],
          "name": "stdout"
        }
      ]
    },
    {
      "cell_type": "code",
      "metadata": {
        "id": "r-kTzRfVVSRr",
        "colab_type": "code",
        "colab": {
          "base_uri": "https://localhost:8080/",
          "height": 276
        },
        "outputId": "121e0dd9-4204-4ad0-df77-57d701959246"
      },
      "source": [
        "plt.plot(out.history['loss'])\n",
        "plt.show()"
      ],
      "execution_count": 87,
      "outputs": [
        {
          "output_type": "display_data",
          "data": {
            "image/png": "[encoded data removed]",
            "text/plain": [
              "<Figure size 432x288 with 1 Axes>"
            ]
          },
          "metadata": {
            "tags": [],
            "needs_background": "light"
          }
        }
      ]
    },
    {
      "cell_type": "code",
      "metadata": {
        "id": "6WdmK914Wprk",
        "colab_type": "code",
        "colab": {
          "base_uri": "https://localhost:8080/",
          "height": 68
        },
        "outputId": "b90a0a2e-5659-4243-f42a-4a108f5b1bcf"
      },
      "source": [
        "dataset = pd.read_csv('test.csv')\n",
        "\n",
        "dataset = dataset.replace([\"A\",\"C\",\"FV\",\"I\",\"RH\",\"RL\",\"RP\",\"RM\",\"C (all)\"] , [0,1,2,3,4,5,6,7,8])\n",
        "dataset = dataset.replace([\"Reg\",\"IR1\",\"IR2\",\"IR3\"], [0,1,2,3])\n",
        "dataset = dataset.replace([\"AllPub\",\"NoSewr\",\"NoSeWa\",\"ELO\"], [0,1,2,3])\n",
        "dataset = dataset.replace([\"Blmngtn\",\"Blueste\",\"BrDale\",\"BrkSide\",\"ClearCr\",\"CollgCr\",\"Crawfor\",\"Edwards\",\"Gilbert\",\"IDOTRR\",\"MeadowV\",\"Mitchel\",\"Names\",\"NAmes\",\"NoRidge\",\"NPkVill\",\"NridgHt\",\"NWAmes\",\"OldTown\",\"SWISU\",\"Sawyer\",\"SawyerW\",\"Somerst\",\"StoneBr\",\"Timber\",\"Veenker\"] , [0,1,2,3,4,5,6,7,8,9,10,11,12,12,13,14,15,16,17,18,19,20,21,22,23,24])\n",
        "dataset = dataset.replace([\"1Fam\",\"2FmCon\",\"2fmCon\",\"Duplx\",\"Duplex\",\"TwnhsE\",\"TwnhsI\",\"Twnhs\"] , [0,1,1,2,2,3,4,5])\n",
        "dataset = dataset.replace([\"1Story\",\"1.5Fin\",\"1.5Unf\",\"2Story\",\"2.5Fin\",\"2.5Unf\",\"SFoyer\",\"SLvl\"] , [0,1,2,3,4,5,6,7])\n",
        "dataset = dataset.replace([\"GLQ\",\"ALQ\",\"BLQ\",\"Rec\",\"LwQ\",\"Unf\",\"NA\"] , [0,1,2,3,4,5,6])\n",
        "dataset = dataset.replace([\"Ex\",\"Gd\",\"TA\",\"Fa\",\"Po\"] , [0,1,2,3,4])\n",
        "dataset = dataset.replace([\"Elev\",\"Gar2\",\"Othr\",\"Shed\",\"TenC\",\"NA\"] , [0,1,2,3,4,5])\n",
        "dataset = dataset.fillna(0)\n",
        "\n",
        "x_test = dataset[[\"MSZoning\",\"LotFrontage\",\"LotArea\",\"LotShape\",\"Utilities\",\"Neighborhood\",\"BldgType\",\"HouseStyle\",\"OverallQual\",\"OverallCond\",\"YearBuilt\",\"YearRemodAdd\",\"BsmtFinType1\",\"TotalBsmtSF\",\"HeatingQC\",\"TotRmsAbvGrd\",\"GarageCars\",\"PoolArea\",\"MiscFeature\"]]\n",
        "\n",
        "x_test = np.array(x_test)\n",
        "\n",
        "x_test = x_test.astype(np.float32)\n",
        "print(x_test[500])"
      ],
      "execution_count": 60,
      "outputs": [
        {
          "output_type": "stream",
          "text": [
            "[5.000e+00 6.300e+01 7.560e+03 0.000e+00 0.000e+00 1.200e+01 0.000e+00\n",
            " 0.000e+00 5.000e+00 5.000e+00 1.971e+03 1.971e+03 3.000e+00 8.640e+02\n",
            " 2.000e+00 5.000e+00 2.000e+00 0.000e+00 0.000e+00]\n"
          ],
          "name": "stdout"
        }
      ]
    },
    {
      "cell_type": "code",
      "metadata": {
        "id": "ZPfGZA4qW7Q2",
        "colab_type": "code",
        "colab": {}
      },
      "source": [
        "dataset = pd.read_csv('sample_submission.csv')\n",
        "\n",
        "y_test = dataset[[\"SalePrice\"]]\n",
        "\n",
        "y_test = np.array(y_test)"
      ],
      "execution_count": 0,
      "outputs": []
    },
    {
      "cell_type": "code",
      "metadata": {
        "id": "_4LNJLB4VbPX",
        "colab_type": "code",
        "colab": {
          "base_uri": "https://localhost:8080/",
          "height": 51
        },
        "outputId": "d11a2d27-b32d-477f-d3e9-c3c6ecfed74e"
      },
      "source": [
        "model.evaluate(x_test, y_test)"
      ],
      "execution_count": 88,
      "outputs": [
        {
          "output_type": "stream",
          "text": [
            "46/46 [==============================] - 0s 980us/step - loss: 277351040.0000\n"
          ],
          "name": "stdout"
        },
        {
          "output_type": "execute_result",
          "data": {
            "text/plain": [
              "277351040.0"
            ]
          },
          "metadata": {
            "tags": []
          },
          "execution_count": 88
        }
      ]
    },
    {
      "cell_type": "code",
      "metadata": {
        "id": "R7Y_dc4gkTmC",
        "colab_type": "code",
        "colab": {
          "base_uri": "https://localhost:8080/",
          "height": 34
        },
        "outputId": "68fc38c3-3220-4de5-91ca-ed3917fc5c9a"
      },
      "source": [
        "my_x_test = np.array([5,63,7560,0,0,12,0,0,5,5,1971,1971,3,864,2,5,2,0,0])\n",
        "\n",
        "my_x_test = my_x_test.reshape(1, 19)\n",
        "\n",
        "my_y_test = model.predict(my_x_test)\n",
        "\n",
        "print(my_y_test)"
      ],
      "execution_count": 89,
      "outputs": [
        {
          "output_type": "stream",
          "text": [
            "[[180513.05]]\n"
          ],
          "name": "stdout"
        }
      ]
    }
  ]
}